{
 "cells": [
  {
   "cell_type": "code",
   "execution_count": 16,
   "metadata": {},
   "outputs": [],
   "source": [
    "import math\n",
    "from decimal import *\n",
    "import os\n",
    "import re\n",
    "import shutil\n",
    "import sys\n",
    "import warnings\n",
    "\n",
    "import chardet\n",
    "import matplotlib.pyplot as plt\n",
    "import numpy as np\n",
    "import pandas as pd\n",
    "import seaborn as sns\n",
    "\n",
    "from statistics import median\n",
    "\n",
    "from constants import bins_axis_names, bin_dimensions_regex, boat_speed_feature, \\\n",
    "                    boxplot_axis_name, feature_regex, identifier_features, \\\n",
    "                    fiber_optics_structure_features, fiber_optics_appendix_features, \\\n",
    "                    other_sensor_features, statistics_features, wind_features"
   ]
  },
  {
   "cell_type": "code",
   "execution_count": 10,
   "metadata": {},
   "outputs": [],
   "source": [
    "def read_csv(fnames):\n",
    "    \"\"\"Read CSV file(s) to a Pandas Dataframe\"\"\"\n",
    "    def detect_and_read(fname):\n",
    "        with open(fname, 'rb') as f:\n",
    "            return pd.read_csv(fname, sep=';', encoding=chardet.detect(f.read())['encoding'])\n",
    "    df = pd.concat(map(lambda fname: detect_and_read(fname), fnames), sort=False)\n",
    "    return df"
   ]
  },
  {
   "cell_type": "code",
   "execution_count": 11,
   "metadata": {},
   "outputs": [],
   "source": [
    "# Ignore RunTimeWarning.\n",
    "warnings.filterwarnings('ignore')\n",
    "\n",
    "# Ignore PyPlot warning.\n",
    "plt.rcParams.update({'figure.max_open_warning': 0})\n",
    "\n",
    "# Version number.\n",
    "version = 'v2'"
   ]
  },
  {
   "cell_type": "code",
   "execution_count": 42,
   "metadata": {},
   "outputs": [],
   "source": [
    "#Prend en argument un csv et renvoie un dataframe avec uniquement les données utilisables pour analyser le comportement du bateau\n",
    "def clean_data(data, min_boat_speed):\n",
    "    \n",
    "    df = read_csv(map(lambda fname: data.format(version, fname), ['data-part-1', 'data-part-2']))\n",
    "    \n",
    "    df = df.drop_duplicates()\n",
    "    \n",
    "    l1 = len(df)\n",
    "    \n",
    "    index_to_be_deleted = []\n",
    "    \n",
    "    #Indices pour lesquels le bateau est face au vent\n",
    "    ind1 = df[df[\"WTP2_TW_angle\"] == 0].index\n",
    "    \n",
    "    #Indices pour lesquels le bateau est en vent arrière\n",
    "    ind2 = df[df[\"WTP2_TW_angle\"].isin([-179, -180, 179])].index\n",
    "    \n",
    "    #Indices pour lesquels le bateau avance à moins de 5 noeuds\n",
    "    ind3 = df[df['VarFilter_WTP_SelBoatSpd'] < min_boat_speed].index\n",
    "    \n",
    "    index_to_be_deleted.extend(ind3)\n",
    "    \n",
    "    for i1 in ind1:\n",
    "        index_to_be_deleted.extend(np.arange(i1-600, i1+600))\n",
    "\n",
    "    for i2 in ind2:\n",
    "        index_to_be_deleted.extend(np.arange(i2-600, i2+600))\n",
    "\n",
    "    #On supprime les indices qui apparaissent plusieurs fois\n",
    "    final_list = list(set(index_to_be_deleted))\n",
    "    \n",
    "    l2 = len(final_list)\n",
    "    \n",
    "    print(Decimal(l2/l1*100).quantize(Decimal('.1'), rounding=ROUND_HALF_UP),'% des données ont été ignorées')\n",
    "    \n",
    "    df = df.drop(final_list, errors = 'ignore')\n",
    "    \n",
    "    #On réinitialise les indices\n",
    "    df = df.reset_index(drop = True)\n",
    "    \n",
    "    return (df)"
   ]
  },
  {
   "cell_type": "code",
   "execution_count": 43,
   "metadata": {},
   "outputs": [
    {
     "name": "stdout",
     "output_type": "stream",
     "text": [
      "38.7 % des données ont été ignorées\n"
     ]
    }
   ],
   "source": [
    "df = clean_data('datalog-psm2-181018_0743_1447_1Hz.csv', 5)"
   ]
  },
  {
   "cell_type": "code",
   "execution_count": null,
   "metadata": {},
   "outputs": [],
   "source": []
  }
 ],
 "metadata": {
  "kernelspec": {
   "display_name": "Python 3",
   "language": "python",
   "name": "python3"
  },
  "language_info": {
   "codemirror_mode": {
    "name": "ipython",
    "version": 3
   },
   "file_extension": ".py",
   "mimetype": "text/x-python",
   "name": "python",
   "nbconvert_exporter": "python",
   "pygments_lexer": "ipython3",
   "version": "3.7.0"
  }
 },
 "nbformat": 4,
 "nbformat_minor": 2
}
