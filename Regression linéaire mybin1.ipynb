{
 "cells": [
  {
   "cell_type": "code",
   "execution_count": 1,
   "metadata": {},
   "outputs": [],
   "source": [
    "import numpy as np\n",
    "import pandas as pd\n",
    "import matplotlib.pyplot as plt"
   ]
  },
  {
   "cell_type": "code",
   "execution_count": 8,
   "metadata": {},
   "outputs": [],
   "source": [
    "from sklearn.linear_model import LinearRegression\n",
    "\n",
    "#on importe les données\n",
    "df1 = pd.read_csv('mybin1.csv',sep=';')\n",
    "df1 = pd.DataFrame(df1)\n",
    "df1 = df1.drop(['Unnamed: 0','Date','Hour'], axis = 1)"
   ]
  },
  {
   "cell_type": "code",
   "execution_count": 18,
   "metadata": {},
   "outputs": [
    {
     "ename": "NameError",
     "evalue": "name 'df' is not defined",
     "output_type": "error",
     "traceback": [
      "\u001b[1;31m---------------------------------------------------------------------------\u001b[0m",
      "\u001b[1;31mNameError\u001b[0m                                 Traceback (most recent call last)",
      "\u001b[1;32m<ipython-input-18-a83c2a8b2b7b>\u001b[0m in \u001b[0;36m<module>\u001b[1;34m()\u001b[0m\n\u001b[0;32m      1\u001b[0m \u001b[1;32mwith\u001b[0m \u001b[0mpd\u001b[0m\u001b[1;33m.\u001b[0m\u001b[0moption_context\u001b[0m\u001b[1;33m(\u001b[0m\u001b[1;34m'display.max_rows'\u001b[0m\u001b[1;33m,\u001b[0m \u001b[1;32mNone\u001b[0m\u001b[1;33m,\u001b[0m \u001b[1;34m'display.max_columns'\u001b[0m\u001b[1;33m,\u001b[0m \u001b[1;32mNone\u001b[0m\u001b[1;33m)\u001b[0m\u001b[1;33m:\u001b[0m\u001b[1;33m\u001b[0m\u001b[0m\n\u001b[1;32m----> 2\u001b[1;33m     \u001b[0mprint\u001b[0m\u001b[1;33m(\u001b[0m\u001b[0mdf\u001b[0m\u001b[1;33m.\u001b[0m\u001b[0mdtypes\u001b[0m\u001b[1;33m)\u001b[0m\u001b[1;33m\u001b[0m\u001b[0m\n\u001b[0m",
      "\u001b[1;31mNameError\u001b[0m: name 'df' is not defined"
     ]
    }
   ],
   "source": [
    "with pd.option_context('display.max_rows', None, 'display.max_columns', None):\n",
    "    print(df.dtypes)"
   ]
  },
  {
   "cell_type": "code",
   "execution_count": 9,
   "metadata": {},
   "outputs": [],
   "source": [
    "df1 = df1[['Board_Elevator_Angle_Center',\n",
    "         'Board_Trimmer_Angle_Center',\n",
    "         'Mainsail_Load',\n",
    "         'Mast_Rotation_Angle',\n",
    "         'Rudder_Elevator_Angle_Center',\n",
    "         'Foil' ,\n",
    "         'Foil_Rake',\n",
    "         'Rudder_Elevator',\n",
    "         'Boat_Speed'\n",
    "        ]]"
   ]
  },
  {
   "cell_type": "code",
   "execution_count": 10,
   "metadata": {},
   "outputs": [
    {
     "data": {
      "text/html": [
       "<table class=\"simpletable\">\n",
       "<caption>OLS Regression Results</caption>\n",
       "<tr>\n",
       "  <th>Dep. Variable:</th>       <td>Boat_Speed</td>    <th>  R-squared:         </th> <td>   0.985</td> \n",
       "</tr>\n",
       "<tr>\n",
       "  <th>Model:</th>                   <td>OLS</td>       <th>  Adj. R-squared:    </th> <td>   0.985</td> \n",
       "</tr>\n",
       "<tr>\n",
       "  <th>Method:</th>             <td>Least Squares</td>  <th>  F-statistic:       </th> <td>2.986e+05</td>\n",
       "</tr>\n",
       "<tr>\n",
       "  <th>Date:</th>             <td>Fri, 15 Mar 2019</td> <th>  Prob (F-statistic):</th>  <td>  0.00</td>  \n",
       "</tr>\n",
       "<tr>\n",
       "  <th>Time:</th>                 <td>09:52:42</td>     <th>  Log-Likelihood:    </th> <td> -94286.</td> \n",
       "</tr>\n",
       "<tr>\n",
       "  <th>No. Observations:</th>      <td> 35377</td>      <th>  AIC:               </th> <td>1.886e+05</td>\n",
       "</tr>\n",
       "<tr>\n",
       "  <th>Df Residuals:</th>          <td> 35369</td>      <th>  BIC:               </th> <td>1.887e+05</td>\n",
       "</tr>\n",
       "<tr>\n",
       "  <th>Df Model:</th>              <td>     8</td>      <th>                     </th>     <td> </td>    \n",
       "</tr>\n",
       "<tr>\n",
       "  <th>Covariance Type:</th>      <td>nonrobust</td>    <th>                     </th>     <td> </td>    \n",
       "</tr>\n",
       "</table>\n",
       "<table class=\"simpletable\">\n",
       "<tr>\n",
       "                <td></td>                  <th>coef</th>     <th>std err</th>      <th>t</th>      <th>P>|t|</th>  <th>[0.025</th>    <th>0.975]</th>  \n",
       "</tr>\n",
       "<tr>\n",
       "  <th>Board_Elevator_Angle_Center</th>  <td>   -1.7478</td> <td>    0.023</td> <td>  -75.646</td> <td> 0.000</td> <td>   -1.793</td> <td>   -1.702</td>\n",
       "</tr>\n",
       "<tr>\n",
       "  <th>Board_Trimmer_Angle_Center</th>   <td>    3.6523</td> <td>    0.043</td> <td>   84.523</td> <td> 0.000</td> <td>    3.568</td> <td>    3.737</td>\n",
       "</tr>\n",
       "<tr>\n",
       "  <th>Mainsail_Load</th>                <td>    0.2140</td> <td>    0.015</td> <td>   14.647</td> <td> 0.000</td> <td>    0.185</td> <td>    0.243</td>\n",
       "</tr>\n",
       "<tr>\n",
       "  <th>Mast_Rotation_Angle</th>          <td>    0.5022</td> <td>    0.009</td> <td>   58.846</td> <td> 0.000</td> <td>    0.485</td> <td>    0.519</td>\n",
       "</tr>\n",
       "<tr>\n",
       "  <th>Rudder_Elevator_Angle_Center</th> <td>   -3.4006</td> <td>    0.045</td> <td>  -76.004</td> <td> 0.000</td> <td>   -3.488</td> <td>   -3.313</td>\n",
       "</tr>\n",
       "<tr>\n",
       "  <th>Foil</th>                         <td>    0.1047</td> <td>    0.001</td> <td>   93.161</td> <td> 0.000</td> <td>    0.103</td> <td>    0.107</td>\n",
       "</tr>\n",
       "<tr>\n",
       "  <th>Foil_Rake</th>                    <td>    2.5930</td> <td>    0.063</td> <td>   41.488</td> <td> 0.000</td> <td>    2.471</td> <td>    2.716</td>\n",
       "</tr>\n",
       "<tr>\n",
       "  <th>Rudder_Elevator</th>              <td>    0.5472</td> <td>    0.041</td> <td>   13.316</td> <td> 0.000</td> <td>    0.467</td> <td>    0.628</td>\n",
       "</tr>\n",
       "</table>\n",
       "<table class=\"simpletable\">\n",
       "<tr>\n",
       "  <th>Omnibus:</th>       <td>2275.850</td> <th>  Durbin-Watson:     </th> <td>   0.172</td>\n",
       "</tr>\n",
       "<tr>\n",
       "  <th>Prob(Omnibus):</th>  <td> 0.000</td>  <th>  Jarque-Bera (JB):  </th> <td>5652.407</td>\n",
       "</tr>\n",
       "<tr>\n",
       "  <th>Skew:</th>           <td> 0.387</td>  <th>  Prob(JB):          </th> <td>    0.00</td>\n",
       "</tr>\n",
       "<tr>\n",
       "  <th>Kurtosis:</th>       <td> 4.799</td>  <th>  Cond. No.          </th> <td>    261.</td>\n",
       "</tr>\n",
       "</table><br/><br/>Warnings:<br/>[1] Standard Errors assume that the covariance matrix of the errors is correctly specified."
      ],
      "text/plain": [
       "<class 'statsmodels.iolib.summary.Summary'>\n",
       "\"\"\"\n",
       "                            OLS Regression Results                            \n",
       "==============================================================================\n",
       "Dep. Variable:             Boat_Speed   R-squared:                       0.985\n",
       "Model:                            OLS   Adj. R-squared:                  0.985\n",
       "Method:                 Least Squares   F-statistic:                 2.986e+05\n",
       "Date:                Fri, 15 Mar 2019   Prob (F-statistic):               0.00\n",
       "Time:                        09:52:42   Log-Likelihood:                -94286.\n",
       "No. Observations:               35377   AIC:                         1.886e+05\n",
       "Df Residuals:                   35369   BIC:                         1.887e+05\n",
       "Df Model:                           8                                         \n",
       "Covariance Type:            nonrobust                                         \n",
       "================================================================================================\n",
       "                                   coef    std err          t      P>|t|      [0.025      0.975]\n",
       "------------------------------------------------------------------------------------------------\n",
       "Board_Elevator_Angle_Center     -1.7478      0.023    -75.646      0.000      -1.793      -1.702\n",
       "Board_Trimmer_Angle_Center       3.6523      0.043     84.523      0.000       3.568       3.737\n",
       "Mainsail_Load                    0.2140      0.015     14.647      0.000       0.185       0.243\n",
       "Mast_Rotation_Angle              0.5022      0.009     58.846      0.000       0.485       0.519\n",
       "Rudder_Elevator_Angle_Center    -3.4006      0.045    -76.004      0.000      -3.488      -3.313\n",
       "Foil                             0.1047      0.001     93.161      0.000       0.103       0.107\n",
       "Foil_Rake                        2.5930      0.063     41.488      0.000       2.471       2.716\n",
       "Rudder_Elevator                  0.5472      0.041     13.316      0.000       0.467       0.628\n",
       "==============================================================================\n",
       "Omnibus:                     2275.850   Durbin-Watson:                   0.172\n",
       "Prob(Omnibus):                  0.000   Jarque-Bera (JB):             5652.407\n",
       "Skew:                           0.387   Prob(JB):                         0.00\n",
       "Kurtosis:                       4.799   Cond. No.                         261.\n",
       "==============================================================================\n",
       "\n",
       "Warnings:\n",
       "[1] Standard Errors assume that the covariance matrix of the errors is correctly specified.\n",
       "\"\"\""
      ]
     },
     "execution_count": 10,
     "metadata": {},
     "output_type": "execute_result"
    }
   ],
   "source": [
    "# imports\n",
    "import pandas as pd\n",
    "import statsmodels.api as sm\n",
    "\n",
    "# assign dependent and independent / explanatory variables\n",
    "variables = list(df1.columns)\n",
    "y = 'Boat_Speed'\n",
    "x = [var for var in variables if var not in y ]\n",
    "#y = 'A'\n",
    "#x = [var for var in variables if var not in y ]\n",
    "\n",
    "# Ordinary least squares regression\n",
    "model_Simple = sm.OLS(df1[y], df1[x]).fit()\n",
    "\n",
    "# Add a constant term like so:\n",
    "#model = sm.OLS(df1[y], sm.add_constant(df1[x])).fit()\n",
    "\n",
    "model_Simple.summary()"
   ]
  },
  {
   "cell_type": "code",
   "execution_count": 17,
   "metadata": {},
   "outputs": [
    {
     "data": {
      "text/plain": [
       "-0.23975148393458767"
      ]
     },
     "execution_count": 17,
     "metadata": {},
     "output_type": "execute_result"
    }
   ],
   "source": [
    "#X = rudder_elevator\n",
    "X = df['Rudder_Elevator']\n",
    "# Y = Boat_Speed\n",
    "Y = df['Boat_Speed'] \n",
    "from scipy import stats\n",
    "slope, intercept, r_value, p_value, std_err = stats.linregress(X, Y)\n",
    "#On affiche R²\n",
    "r_value"
   ]
  },
  {
   "cell_type": "code",
   "execution_count": 13,
   "metadata": {},
   "outputs": [
    {
     "data": {
      "text/plain": [
       "[<matplotlib.lines.Line2D at 0x19d4640cc88>]"
      ]
     },
     "execution_count": 13,
     "metadata": {},
     "output_type": "execute_result"
    },
    {
     "data": {
      "image/png": "[encoded data removed]",
      "text/plain": [
       "<Figure size 432x288 with 1 Axes>"
      ]
     },
     "metadata": {
      "needs_background": "light"
     },
     "output_type": "display_data"
    }
   ],
   "source": [
    "axes = plt.axes()\n",
    "axes.grid() # dessiner une grille pour une meilleur lisibilité du graphe\n",
    "plt.scatter(X,Y) # X et Y sont les variables qu'on a extraite dans le paragraphe précédent\n",
    "def predict(x):\n",
    "   return slope * x + intercept\n",
    "fitLine = predict(X)\n",
    "plt.plot(X, fitLine, c='r')"
   ]
  },
  {
   "cell_type": "code",
   "execution_count": 20,
   "metadata": {},
   "outputs": [
    {
     "data": {
      "text/plain": [
       "-0.23155847625300507"
      ]
     },
     "execution_count": 20,
     "metadata": {},
     "output_type": "execute_result"
    }
   ],
   "source": [
    "#X = Rudder_CC_Elevator_angle\n",
    "X = df['Rudder_Elevator_Angle_Center']\n",
    "# Y = Boat_Speed\n",
    "Y = df['Boat_Speed'] \n",
    "from scipy import stats\n",
    "slope, intercept, r_value, p_value, std_err = stats.linregress(X, Y)\n",
    "#On affiche R²\n",
    "r_value"
   ]
  },
  {
   "cell_type": "code",
   "execution_count": 21,
   "metadata": {},
   "outputs": [
    {
     "data": {
      "text/plain": [
       "[<matplotlib.lines.Line2D at 0x19d46446860>]"
      ]
     },
     "execution_count": 21,
     "metadata": {},
     "output_type": "execute_result"
    },
    {
     "data": {
      "image/png": "[encoded data removed]",
      "text/plain": [
       "<Figure size 432x288 with 1 Axes>"
      ]
     },
     "metadata": {
      "needs_background": "light"
     },
     "output_type": "display_data"
    }
   ],
   "source": [
    "axes = plt.axes()\n",
    "axes.grid() # dessiner une grille pour une meilleur lisibilité du graphe\n",
    "plt.scatter(X,Y) # X et Y sont les variables qu'on a extraite dans le paragraphe précédent\n",
    "def predict(x):\n",
    "   return slope * x + intercept\n",
    "fitLine = predict(X)\n",
    "plt.plot(X, fitLine, c='r')"
   ]
  },
  {
   "cell_type": "code",
   "execution_count": 22,
   "metadata": {},
   "outputs": [
    {
     "data": {
      "text/plain": [
       "-0.2281307855594884"
      ]
     },
     "execution_count": 22,
     "metadata": {},
     "output_type": "execute_result"
    }
   ],
   "source": [
    "#X = C_Board_Elevator_Angle\n",
    "X = df['Board_Elevator_Angle_Center']\n",
    "# Y = Boat_Speed\n",
    "Y = df['Boat_Speed'] \n",
    "from scipy import stats\n",
    "slope, intercept, r_value, p_value, std_err = stats.linregress(X, Y)\n",
    "#On affiche R²\n",
    "r_value"
   ]
  },
  {
   "cell_type": "code",
   "execution_count": 23,
   "metadata": {},
   "outputs": [
    {
     "data": {
      "text/plain": [
       "[<matplotlib.lines.Line2D at 0x19d466e6b70>]"
      ]
     },
     "execution_count": 23,
     "metadata": {},
     "output_type": "execute_result"
    },
    {
     "data": {
      "image/png": "[encoded data removed]",
      "text/plain": [
       "<Figure size 432x288 with 1 Axes>"
      ]
     },
     "metadata": {
      "needs_background": "light"
     },
     "output_type": "display_data"
    }
   ],
   "source": [
    "axes = plt.axes()\n",
    "axes.grid() # dessiner une grille pour une meilleur lisibilité du graphe\n",
    "plt.scatter(X,Y) # X et Y sont les variables qu'on a extraite dans le paragraphe précédent\n",
    "def predict(x):\n",
    "   return slope * x + intercept\n",
    "fitLine = predict(X)\n",
    "plt.plot(X, fitLine, c='r')"
   ]
  },
  {
   "cell_type": "code",
   "execution_count": null,
   "metadata": {},
   "outputs": [],
   "source": []
  }
 ],
 "metadata": {
  "kernelspec": {
   "display_name": "Python 3",
   "language": "python",
   "name": "python3"
  },
  "language_info": {
   "codemirror_mode": {
    "name": "ipython",
    "version": 3
   },
   "file_extension": ".py",
   "mimetype": "text/x-python",
   "name": "python",
   "nbconvert_exporter": "python",
   "pygments_lexer": "ipython3",
   "version": "3.7.0"
  }
 },
 "nbformat": 4,
 "nbformat_minor": 2
}
